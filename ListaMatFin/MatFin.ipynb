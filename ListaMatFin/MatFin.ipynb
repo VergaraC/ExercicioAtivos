{
 "cells": [
  {
   "cell_type": "code",
   "execution_count": 7,
   "id": "350f83c6-4693-4058-b65f-f40e3cde9758",
   "metadata": {},
   "outputs": [],
   "source": [
    "import math"
   ]
  },
  {
   "cell_type": "markdown",
   "id": "f78b9948",
   "metadata": {},
   "source": [
    "## Lista de Exercício 1 - fundamentos básicos de MATFIN\n",
    "\n",
    "Enzo Guerreiro\n",
    "\n",
    "Victor Vergara Arcoverde de A. Cavalcanti"
   ]
  },
  {
   "cell_type": "markdown",
   "id": "2d535219",
   "metadata": {},
   "source": [
    "#### Funções de Fin"
   ]
  },
  {
   "cell_type": "code",
   "execution_count": 2,
   "id": "2c4e7e8b",
   "metadata": {},
   "outputs": [],
   "source": [
    "def simples(principal, taxa, tempo):\n",
    "    result = principal*taxa*tempo\n",
    "    return result + principal\n",
    "\n",
    "def simplesReverso(final, taxa, tempo):\n",
    "    principal = final/(1+(taxa*tempo))\n",
    "    \n",
    "    return principal \n",
    "    \n",
    "def composto(principal, taxa, tempo):\n",
    "    result = principal * ( (1+taxa)**tempo - 1)\n",
    "    return result + principal"
   ]
  },
  {
   "cell_type": "code",
   "execution_count": 3,
   "id": "8acda390",
   "metadata": {},
   "outputs": [],
   "source": [
    "def taxaEquivalente(iTempo, tempo):\n",
    "    i = (1 +iTempo)**tempo -1\n",
    "    return i"
   ]
  },
  {
   "cell_type": "markdown",
   "id": "f75d244e",
   "metadata": {},
   "source": [
    "#### EXS"
   ]
  },
  {
   "cell_type": "code",
   "execution_count": 10,
   "id": "308fcd24",
   "metadata": {},
   "outputs": [
    {
     "name": "stdout",
     "output_type": "stream",
     "text": [
      "Ex1\n",
      "14500000.0\n"
     ]
    }
   ],
   "source": [
    "print(\"Ex1\")\n",
    "r = simples(10000000,0.09,5)\n",
    "print(r)"
   ]
  },
  {
   "cell_type": "code",
   "execution_count": 3,
   "id": "cabedaf2",
   "metadata": {},
   "outputs": [
    {
     "name": "stdout",
     "output_type": "stream",
     "text": [
      "Ex2\n",
      "67567.56756756757\n"
     ]
    }
   ],
   "source": [
    "print(\"Ex2\")\n",
    "r = simplesReverso(100000,0.02,12*2)\n",
    "print(r)"
   ]
  },
  {
   "cell_type": "code",
   "execution_count": 12,
   "id": "caf9f555",
   "metadata": {},
   "outputs": [
    {
     "name": "stdout",
     "output_type": "stream",
     "text": [
      "Ex3\n",
      "200.0\n"
     ]
    }
   ],
   "source": [
    "print(\"Ex3\")\n",
    "r = simples(50000,0.03,4/30)\n",
    "print(r - 50000)"
   ]
  },
  {
   "cell_type": "code",
   "execution_count": 13,
   "id": "9307be83",
   "metadata": {},
   "outputs": [
    {
     "name": "stdout",
     "output_type": "stream",
     "text": [
      "Ex4\n",
      "37500.0\n",
      "40262.750000000015\n"
     ]
    }
   ],
   "source": [
    "print(\"Ex4\")\n",
    "r1 = simples(25000,0.1,5)\n",
    "r2 = composto(25000,0.1,5)\n",
    "print(r1)\n",
    "print(r2)"
   ]
  },
  {
   "cell_type": "code",
   "execution_count": 14,
   "id": "0a8b4705",
   "metadata": {},
   "outputs": [
    {
     "name": "stdout",
     "output_type": "stream",
     "text": [
      "Ex5\n",
      "61963.88427082662\n"
     ]
    }
   ],
   "source": [
    "print(\"Ex5\")\n",
    "r2 = composto(60000,0.012,81/30)\n",
    "\n",
    "print(r2)"
   ]
  },
  {
   "cell_type": "code",
   "execution_count": 6,
   "id": "a9bd9bca",
   "metadata": {},
   "outputs": [
    {
     "name": "stdout",
     "output_type": "stream",
     "text": [
      "Ex6\n",
      "27.684975161163862 %\n"
     ]
    }
   ],
   "source": [
    "print(\"Ex6\")\n",
    "r1 = 86730/40000\n",
    "t = 95/30\n",
    "r2 = r1/t\n",
    "r3 = ((r1)**(1/t)) -1\n",
    "print(r3*100, \"%\")\n",
    "\n"
   ]
  },
  {
   "cell_type": "code",
   "execution_count": 16,
   "id": "a3b36ea0",
   "metadata": {},
   "outputs": [
    {
     "name": "stdout",
     "output_type": "stream",
     "text": [
      "Ex7\n",
      "5.25 %\n"
     ]
    }
   ],
   "source": [
    "print(\"Ex7\")\n",
    "print(21/4, \"%\")"
   ]
  },
  {
   "cell_type": "code",
   "execution_count": 17,
   "id": "c70cc83b",
   "metadata": {},
   "outputs": [
    {
     "name": "stdout",
     "output_type": "stream",
     "text": [
      "Ex8\n",
      "3.0 %\n"
     ]
    }
   ],
   "source": [
    "print(\"Ex8\")\n",
    "print(36/12,  \"%\")"
   ]
  },
  {
   "cell_type": "code",
   "execution_count": 18,
   "id": "9aaea794",
   "metadata": {},
   "outputs": [
    {
     "name": "stdout",
     "output_type": "stream",
     "text": [
      "Ex9\n",
      "0.13082120689500432 %\n"
     ]
    }
   ],
   "source": [
    "print(\"Ex9\")\n",
    "r = taxaEquivalente(0.04, 1/30)\n",
    "print(r*100,\"%\" )"
   ]
  },
  {
   "cell_type": "code",
   "execution_count": 19,
   "id": "2cbecc93",
   "metadata": {},
   "outputs": [
    {
     "name": "stdout",
     "output_type": "stream",
     "text": [
      "Ex10\n",
      "0.07092329341447101 %\n"
     ]
    }
   ],
   "source": [
    "print(\"Ex10\")\n",
    "r = taxaEquivalente(0.015,1/21)\n",
    "print(r*100,\"%\" )"
   ]
  },
  {
   "cell_type": "code",
   "execution_count": 21,
   "id": "78848547",
   "metadata": {},
   "outputs": [
    {
     "name": "stdout",
     "output_type": "stream",
     "text": [
      "Ex11\n",
      "62370.0\n"
     ]
    }
   ],
   "source": [
    "print(\"Ex11\")\n",
    "r1 = simples(50000, 0.05, 1)\n",
    "r2 = simples(r1, 0.08, 1)\n",
    "r3 = simples(r2, 0.1, 1)\n",
    "print(r3)"
   ]
  },
  {
   "cell_type": "code",
   "execution_count": 4,
   "id": "6050d8c4",
   "metadata": {},
   "outputs": [
    {
     "name": "stdout",
     "output_type": "stream",
     "text": [
      "Ex12 PROBLEMA\n",
      "1002842.534739433\n"
     ]
    }
   ],
   "source": [
    "print(\"Ex12\")\n",
    "\n",
    "p = 1000000\n",
    "tAno = 252\n",
    "r =1000000*(1+taxaEquivalente(0.1525,1/tAno))*(1+taxaEquivalente(0.153,1/tAno))*(1+taxaEquivalente(0.154,1/tAno))*(1+taxaEquivalente(0.1545,1/tAno))*(1+taxaEquivalente(0.155,1/tAno))\n",
    "\n",
    "\n",
    "\n",
    "print(r)"
   ]
  },
  {
   "cell_type": "code",
   "execution_count": 61,
   "id": "3c77bcbf",
   "metadata": {},
   "outputs": [
    {
     "name": "stdout",
     "output_type": "stream",
     "text": [
      "Ex13\n",
      "140.0\n"
     ]
    }
   ],
   "source": [
    "print(\"Ex13\")\n",
    "print((1200000*100/500000)-100)"
   ]
  },
  {
   "cell_type": "code",
   "execution_count": 5,
   "id": "d6694683",
   "metadata": {},
   "outputs": [
    {
     "name": "stdout",
     "output_type": "stream",
     "text": [
      "Ex14\n",
      "90.17832734518687 %\n"
     ]
    }
   ],
   "source": [
    "print(\"Ex14\")\n",
    "r = (1+ 0.1651)* (1+0.1796)* (1+0.1601)*(1+0.1928) -1\n",
    "print(r*100, \"%\")"
   ]
  },
  {
   "cell_type": "code",
   "execution_count": 7,
   "id": "2ab718c9",
   "metadata": {},
   "outputs": [
    {
     "name": "stdout",
     "output_type": "stream",
     "text": [
      "Ex15 PROBLEMA\n",
      "26.197345065709477\n"
     ]
    }
   ],
   "source": [
    "print(\"Ex15\")\n",
    "C = 500000\n",
    "C2 = C * (1 +r)\n",
    "t = 1\n",
    "r2 = (((1200000/C2)**(1/t)) -1)*100\n",
    "print(r2)"
   ]
  },
  {
   "cell_type": "code",
   "execution_count": 41,
   "id": "1604c9a8",
   "metadata": {},
   "outputs": [
    {
     "name": "stdout",
     "output_type": "stream",
     "text": [
      "Ex16\n",
      "1016109.5890410959\n"
     ]
    }
   ],
   "source": [
    "print(\"Ex16\")\n",
    "r = simples(1000000, 0.14,42/365)\n",
    "print(r)\n"
   ]
  },
  {
   "cell_type": "code",
   "execution_count": 42,
   "id": "9ad85eae",
   "metadata": {},
   "outputs": [
    {
     "name": "stdout",
     "output_type": "stream",
     "text": [
      "Ex17\n",
      "1017466.452488498\n"
     ]
    }
   ],
   "source": [
    "print(\"Ex17\")\n",
    "r = composto(1000000, 0.16,42/360)\n",
    "print(r)"
   ]
  },
  {
   "cell_type": "code",
   "execution_count": 43,
   "id": "d4897b02",
   "metadata": {},
   "outputs": [
    {
     "name": "stdout",
     "output_type": "stream",
     "text": [
      "Ex18\n",
      "900.0\n"
     ]
    }
   ],
   "source": [
    "print(\"Ex18\")\n",
    "r= simples(18000, 0.025, 2)\n",
    "print(r -18000)"
   ]
  },
  {
   "cell_type": "code",
   "execution_count": 44,
   "id": "b2b4cc2d",
   "metadata": {},
   "outputs": [
    {
     "name": "stdout",
     "output_type": "stream",
     "text": [
      "Ex19\n",
      "17100.0\n"
     ]
    }
   ],
   "source": [
    "print(\"Ex19\")\n",
    "r= simples(18000, 0.025, 2)\n",
    "r2 = r -18000\n",
    "print(18000- r2)"
   ]
  },
  {
   "cell_type": "code",
   "execution_count": 48,
   "id": "21486bb6",
   "metadata": {},
   "outputs": [
    {
     "name": "stdout",
     "output_type": "stream",
     "text": [
      "Ex20\n",
      "4.0625\n"
     ]
    }
   ],
   "source": [
    "print(\"Ex20\")\n",
    "\n",
    "r = (1+ 2.5/2)**2 -1\n",
    "print(r)\n"
   ]
  },
  {
   "cell_type": "code",
   "execution_count": null,
   "id": "c97c7fed",
   "metadata": {},
   "outputs": [],
   "source": [
    "12\n",
    "15"
   ]
  }
 ],
 "metadata": {
  "kernelspec": {
   "display_name": "Python 3 (ipykernel)",
   "language": "python",
   "name": "python3"
  },
  "language_info": {
   "codemirror_mode": {
    "name": "ipython",
    "version": 3
   },
   "file_extension": ".py",
   "mimetype": "text/x-python",
   "name": "python",
   "nbconvert_exporter": "python",
   "pygments_lexer": "ipython3",
   "version": "3.8.10"
  }
 },
 "nbformat": 4,
 "nbformat_minor": 5
}
